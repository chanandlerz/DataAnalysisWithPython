{
 "cells": [
  {
   "cell_type": "markdown",
   "metadata": {
    "id": "H9wADwK78DCz"
   },
   "source": [
    "# Proyek Analisis Data: Bike Sharing Dataset\n",
    "- **Nama:** Nadia Putri Natali Lubis\n",
    "- **Email:** lubisputri16@gmail.com\n",
    "- **ID Dicoding:** nadialubis"
   ]
  },
  {
   "cell_type": "markdown",
   "metadata": {
    "id": "eE0raob58DC0"
   },
   "source": [
    "## Menentukan Pertanyaan Bisnis"
   ]
  },
  {
   "cell_type": "markdown",
   "metadata": {
    "id": "GmQeQ5YF8DC0"
   },
   "source": [
    "- Bagaimana hubungan antara temperatur cuaca dan banyaknya penyewaan sepeda pada hari itu?\n",
    "- Apakah terdapat hubungan signifikan antara holiday dan penyewaan sepeda harian?"
   ]
  },
  {
   "cell_type": "markdown",
   "metadata": {
    "id": "H-z4QGlO8DC1"
   },
   "source": [
    "## Import Semua Packages/Library yang Digunakan"
   ]
  },
  {
   "cell_type": "code",
   "execution_count": null,
   "metadata": {
    "id": "FVYwaObI8DC1"
   },
   "outputs": [],
   "source": [
    "import numpy as np\n",
    "import pandas as pd\n",
    "import matplotlib.pyplot as plt\n",
    "import seaborn as sns\n",
    "from scipy.stats import ttest_ind"
   ]
  },
  {
   "cell_type": "markdown",
   "metadata": {
    "id": "h_Sh51Xy8DC1"
   },
   "source": [
    "## Data Wrangling"
   ]
  },
  {
   "cell_type": "markdown",
   "metadata": {
    "id": "sXU2GBYu8DC1"
   },
   "source": [
    "### Gathering Data"
   ]
  },
  {
   "cell_type": "code",
   "execution_count": null,
   "metadata": {
    "id": "zjCBk1BI8DC1"
   },
   "outputs": [],
   "source": [
    "day_df = pd.read_csv(\"data/day.csv\")"
   ]
  },
  {
   "cell_type": "code",
   "execution_count": null,
   "metadata": {
    "colab": {
     "base_uri": "https://localhost:8080/"
    },
    "id": "PNm0-0vxop-7",
    "outputId": "f25c5a03-bba7-4c1d-cc8d-4dde1431cade"
   },
   "outputs": [],
   "source": [
    "day_df.info()"
   ]
  },
  {
   "cell_type": "markdown",
   "metadata": {
    "id": "MMi6xGaDkbCi"
   },
   "source": [
    "**Insight:**\n",
    "- data yang tersedia merupakan data bike-sharing rent setiap harinya daru tahun 2011 hingga 2012.\n"
   ]
  },
  {
   "cell_type": "markdown",
   "metadata": {
    "id": "FHSiqaZp8DC1"
   },
   "source": [
    "### Assessing Data"
   ]
  },
  {
   "cell_type": "code",
   "execution_count": null,
   "metadata": {
    "colab": {
     "base_uri": "https://localhost:8080/",
     "height": 586
    },
    "id": "ax-3tEjc9Cj1",
    "outputId": "6b01c042-cc35-4519-8584-0bf7164a9503"
   },
   "outputs": [],
   "source": [
    "day_df.isna().sum()"
   ]
  },
  {
   "cell_type": "code",
   "execution_count": null,
   "metadata": {
    "colab": {
     "base_uri": "https://localhost:8080/"
    },
    "id": "KxvnjIpYu0K-",
    "outputId": "e359ae69-5614-4342-b4c6-898c6bdf4892"
   },
   "outputs": [],
   "source": [
    "day_df.duplicated().sum()"
   ]
  },
  {
   "cell_type": "code",
   "execution_count": null,
   "metadata": {
    "colab": {
     "base_uri": "https://localhost:8080/",
     "height": 320
    },
    "id": "ZS6s4zvJu95X",
    "outputId": "261a20e2-4ad0-4dd2-a98f-bbce35e106c2"
   },
   "outputs": [],
   "source": [
    "day_df.describe()"
   ]
  },
  {
   "cell_type": "markdown",
   "metadata": {
    "id": "7dtxhAPrkhPL"
   },
   "source": [
    "**Insight:**\n",
    "- Tidak terdapat missing value pada data\n",
    "- Tidak terdapat duplikasi pada data\n",
    "- Data yang ada telah akurat dan valid (pengecekan berdasarkan setiap kolom)"
   ]
  },
  {
   "cell_type": "markdown",
   "metadata": {
    "id": "EhN5R4hr8DC1"
   },
   "source": [
    "### Cleaning Data"
   ]
  },
  {
   "cell_type": "code",
   "execution_count": null,
   "metadata": {
    "id": "jVnYpprE9Evz"
   },
   "outputs": [],
   "source": []
  },
  {
   "cell_type": "markdown",
   "metadata": {
    "id": "Q_5ejIqckiSP"
   },
   "source": [
    "**Insight:**\n",
    "- Define : tidak ditemukan masalah pada tahap assesing data\n",
    "- Code : tidak diperlukan code untuk cleaning data\n",
    "- Test : data telah siap dianalisis"
   ]
  },
  {
   "cell_type": "markdown",
   "metadata": {
    "id": "gp-Y6wU38DC1"
   },
   "source": [
    "## Exploratory Data Analysis (EDA)"
   ]
  },
  {
   "cell_type": "markdown",
   "metadata": {
    "id": "MW7WF2kr8DC1"
   },
   "source": [
    "### Explore ..."
   ]
  },
  {
   "cell_type": "code",
   "execution_count": null,
   "metadata": {
    "colab": {
     "base_uri": "https://localhost:8080/",
     "height": 226
    },
    "id": "e9CQCZjk8DC2",
    "outputId": "fc75a815-3393-4a4c-dca5-f334eb922d09"
   },
   "outputs": [],
   "source": [
    "day_df.sample(5)"
   ]
  },
  {
   "cell_type": "markdown",
   "metadata": {},
   "source": [
    "Untuk mengetahui hubungan antara temperatur cuaca dan banyaknya penyewaan sepeda pada hari itu, kita perlu mengetahui dan mengeksplorasi fitur temp (temperatur) dan cnt (banyaknya rental) "
   ]
  },
  {
   "cell_type": "markdown",
   "metadata": {},
   "source": [
    "Pertama buat dahulu dataframe baru yang berisi fitur 'instant','temp','cnt'."
   ]
  },
  {
   "cell_type": "code",
   "execution_count": null,
   "metadata": {},
   "outputs": [],
   "source": [
    "temp_cnt_df = day_df[['instant','temp','cnt']]\n",
    "\n",
    "temp_cnt_df.head()"
   ]
  },
  {
   "cell_type": "markdown",
   "metadata": {},
   "source": [
    "Selanjutnya kita memeriksa distribusi data dengan menggunakan hist()"
   ]
  },
  {
   "cell_type": "code",
   "execution_count": null,
   "metadata": {},
   "outputs": [],
   "source": [
    "temp_cnt_df[['temp','cnt']].hist()"
   ]
  },
  {
   "cell_type": "markdown",
   "metadata": {},
   "source": [
    "Kemudian kita dapat melihat korelasi antara temp dan cnt"
   ]
  },
  {
   "cell_type": "code",
   "execution_count": null,
   "metadata": {},
   "outputs": [],
   "source": [
    "temp_cnt_df[['temp','cnt']].corr()"
   ]
  },
  {
   "cell_type": "code",
   "execution_count": null,
   "metadata": {},
   "outputs": [],
   "source": [
    "temp_cnt_df[['temp','cnt']].cov()"
   ]
  },
  {
   "cell_type": "code",
   "execution_count": null,
   "metadata": {},
   "outputs": [],
   "source": [
    "temp_cnt_df.plot.scatter(x='temp', y='cnt')"
   ]
  },
  {
   "cell_type": "markdown",
   "metadata": {
    "id": "th_Lzl2Fkj9O"
   },
   "source": [
    "**Insight:**\n",
    "\n",
    "- Menurut pendapat saya, berdasarkan grafik histogram fitur \"cnt\", distribusi data cukup merata karena tidak terlihat data yang hanya menumpuk di satu sisi.\n",
    "- Berdasarkan method corr() dan cov() terlihat bahwa terdapat hubungan antara fitur \"temp\" dan \"cnt\"\n",
    "- Hasil scatter plot antara fitur \"temp\" dan \"cnt\" menunjukkan positive correlation.\n",
    "\n",
    "(sumber : readME pada dataset)\n",
    "- instant: record index\n",
    "\t- dteday : date\n",
    "\t- season : season (1:springer, 2:summer, 3:fall, 4:winter)\n",
    "\t- yr : year (0: 2011, 1:2012)\n",
    "\t- mnth : month ( 1 to 12)\n",
    "\t- hr : hour (0 to 23)\n",
    "\t- holiday : weather day is holiday or not (extracted from http://dchr.dc.gov/page/holiday-schedule)\n",
    "\t- weekday : day of the week\n",
    "\t- workingday : if day is neither weekend nor holiday is 1, otherwise is 0.\n",
    "\t+ weathersit :\n",
    "\t\t- 1: Clear, Few clouds, Partly cloudy, Partly cloudy\n",
    "\t\t- 2: Mist + Cloudy, Mist + Broken clouds, Mist + Few clouds, Mist\n",
    "\t\t- 3: Light Snow, Light Rain + Thunderstorm + Scattered clouds, Light Rain + Scattered clouds\n",
    "\t\t- 4: Heavy Rain + Ice Pallets + Thunderstorm + Mist, Snow + Fog\n",
    "\t- temp : Normalized temperature in Celsius. The values are divided to 41 (max)\n",
    "\t- atemp: Normalized feeling temperature in Celsius. The values are divided to 50 (max)\n",
    "\t- hum: Normalized humidity. The values are divided to 100 (max)\n",
    "\t- windspeed: Normalized wind speed. The values are divided to 67 (max)\n",
    "\t- casual: count of casual users\n",
    "\t- registered: count of registered users\n",
    "\t- cnt: count of total rental bikes including both casual and registered\n"
   ]
  },
  {
   "cell_type": "markdown",
   "metadata": {
    "id": "zsyZjqak8DC2"
   },
   "source": [
    "## Visualization & Explanatory Analysis"
   ]
  },
  {
   "cell_type": "markdown",
   "metadata": {
    "id": "HZxOiQ6n8DC2"
   },
   "source": [
    "### Pertanyaan 1:"
   ]
  },
  {
   "cell_type": "markdown",
   "metadata": {},
   "source": [
    "Kita dapat melakukan visualisasi data hubungan antara temperatur cuaca dan banyaknya penyewaan sepeda dengan menggunakan scatter plot."
   ]
  },
  {
   "cell_type": "code",
   "execution_count": null,
   "metadata": {},
   "outputs": [],
   "source": [
    "plt.scatter(temp_cnt_df['temp'],temp_cnt_df['cnt'])"
   ]
  },
  {
   "cell_type": "markdown",
   "metadata": {
    "id": "DgHI7CiU8DC2"
   },
   "source": [
    "### Pertanyaan 2:"
   ]
  },
  {
   "cell_type": "markdown",
   "metadata": {
    "id": "ulak9v6YzW0M"
   },
   "source": [
    "Untuk mengetahui apakah ada hubungan signifikan holiday dan banyaknya penyewaan sepeda, kita perlu mengetahui total rental pada holiday dan non-holiday."
   ]
  },
  {
   "cell_type": "code",
   "execution_count": null,
   "metadata": {
    "colab": {
     "base_uri": "https://localhost:8080/",
     "height": 472
    },
    "id": "Go0lCsvO8DC2",
    "outputId": "2d01c49f-86bb-4780-c1f7-134f2d7393ac"
   },
   "outputs": [],
   "source": [
    "sns.boxplot(x='holiday', y='cnt', data=day_df)\n",
    "plt.title(\"Bike Rentals on Holiday vs Non-Holiday\")\n",
    "plt.xlabel(\"Holiday (1 = Holiday, 0 = Non-Holiday)\")\n",
    "plt.ylabel(\"Total Rentals\")\n",
    "plt.xticks([0, 1], ['Non-Holiday', 'Holiday'])\n",
    "plt.show()"
   ]
  },
  {
   "cell_type": "markdown",
   "metadata": {
    "id": "U2judFYkzwyT"
   },
   "source": [
    "Kemudian kita dapat menguji hipotesa"
   ]
  },
  {
   "cell_type": "code",
   "execution_count": null,
   "metadata": {
    "colab": {
     "base_uri": "https://localhost:8080/"
    },
    "id": "dBIulirZzsX4",
    "outputId": "813b137c-77a9-4a24-d17a-35188985171d"
   },
   "outputs": [],
   "source": [
    "holiday_rentals = day_df[day_df['holiday'] == 1]['cnt']\n",
    "non_holiday_rentals = day_df[day_df['holiday'] == 0]['cnt']\n",
    "\n",
    "t_stat, p_value = ttest_ind(holiday_rentals, non_holiday_rentals)\n",
    "\n",
    "print(f\"T-statistic: {t_stat}\")\n",
    "print(f\"P-value: {p_value}\")\n",
    "\n",
    "if p_value < 0.05:\n",
    "    print(\"There is a significant correlation between holiday and bike rentals (reject the null hypothesis).\")\n",
    "else:\n",
    "    print(\"There is no significant correlation between holiday and bike rentals (fail to reject the null hypothesis).\")"
   ]
  },
  {
   "cell_type": "markdown",
   "metadata": {
    "id": "_0-36BDLklRg"
   },
   "source": [
    "**Insight:**\n",
    "- Dengan melakukan EDA dan visualisasi data, saya dapat memperoleh informasi mengenai banyaknya rental sepeda setiap musimnya. Saya juga mengetahui terdapat atau tidaknya hubungan antara Holiday dan banyaknya rental sepeda pada hari itu."
   ]
  },
  {
   "cell_type": "markdown",
   "metadata": {
    "id": "9y4VUsmcYNZ5"
   },
   "source": [
    "## Analisis Lanjutan (Opsional)"
   ]
  },
  {
   "cell_type": "code",
   "execution_count": null,
   "metadata": {
    "colab": {
     "base_uri": "https://localhost:8080/",
     "height": 238
    },
    "id": "iWhnzsJGYUCO",
    "outputId": "4816b5d7-ed08-4746-b32d-8a2257faed69"
   },
   "outputs": [],
   "source": [
    "reference_date = day_df['dteday'].max()\n",
    "\n",
    "rfm_df = day_df.groupby('instant').agg({\n",
    "'dteday': lambda x: (reference_date - x.max()).days,\n",
    "'instant': 'count',\n",
    "'cnt': 'sum'\n",
    "})\n",
    "\n",
    "rfm_df.rename(columns={\n",
    "    'dteday': 'Recency',\n",
    "    'instant': 'Frequency',\n",
    "    'cnt': 'Monetary'\n",
    "    }, inplace=True)\n",
    "\n",
    "rfm_df.sample(5)"
   ]
  },
  {
   "cell_type": "markdown",
   "metadata": {
    "id": "_WeHlCeX8DC2"
   },
   "source": [
    "## Conclusion"
   ]
  },
  {
   "cell_type": "markdown",
   "metadata": {
    "id": "ZTcyR48Y8DC2"
   },
   "source": [
    "- Terdapat hubungan positif antara temperatur cuaca dan banyaknya penyewaan sepeda pada hari itu.\n",
    "- Tidak terdapat korelasi signifikan antara holiday dan total penyewaan sepeda."
   ]
  },
  {
   "cell_type": "code",
   "execution_count": null,
   "metadata": {
    "id": "XRm3w1OH0Hib"
   },
   "outputs": [],
   "source": []
  }
 ],
 "metadata": {
  "colab": {
   "provenance": []
  },
  "kernelspec": {
   "display_name": "proyek_analisis_data-KhrX-_17",
   "language": "python",
   "name": "python3"
  },
  "language_info": {
   "codemirror_mode": {
    "name": "ipython",
    "version": 3
   },
   "file_extension": ".py",
   "mimetype": "text/x-python",
   "name": "python",
   "nbconvert_exporter": "python",
   "pygments_lexer": "ipython3",
   "version": "3.12.3"
  },
  "orig_nbformat": 4
 },
 "nbformat": 4,
 "nbformat_minor": 0
}
